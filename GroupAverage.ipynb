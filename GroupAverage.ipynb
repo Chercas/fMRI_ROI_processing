{
 "cells": [
  {
   "cell_type": "code",
   "execution_count": 1,
   "metadata": {},
   "outputs": [],
   "source": [
    "from math import log10 as log\n",
    "from re import split\n",
    "from glob import glob\n",
    "import scipy.optimize as spopt\n",
    "from scipy.optimize import fmin\n",
    "import matplotlib.pyplot as plt\n",
    "import numpy as np\n",
    "import os\n",
    "from os.path import join as opj\n",
    "from natsort import realsorted as rst\n",
    "from matplotlib.ticker import FormatStrFormatter\n",
    "import ptitprince as pt\n",
    "import pandas as pd\n",
    "import seaborn as sns\n",
    "import plotly.express as px"
   ]
  },
  {
   "cell_type": "code",
   "execution_count": 2,
   "metadata": {},
   "outputs": [],
   "source": [
    "#Usefull functions\n",
    "def contrastNoiseRatio(dataList, preStim, onStim):\n",
    "    meanBL = np.mean(dataList[0:preStim], axis=0)\n",
    "    meanSTIM = np.mean(dataList[preStim:(preStim+onStim)], axis=0)\n",
    "    return (meanSTIM - meanBL)/np.std(dataList[0:preStim])\n",
    "\n",
    "def linearFit(L, y):\n",
    "    x = np.linspace(0, len(y), num = len(y))\n",
    "    if L == '_l1':\n",
    "        # find L1 line fit\n",
    "        l1_fit = lambda x0, x, y: np.sum(np.abs(x0[0] * x + x0[1] - y))\n",
    "        X1 = spopt.fmin(func=l1_fit, x0=[1, 1], args=(x, y))\n",
    "        print(X1)\n",
    "        return X1[0]*x + X1[1]\n",
    "    elif L == '_l2':\n",
    "        # find L2 line fit\n",
    "        l2_fit = lambda x0, x, y: np.sum(np.power(x0[0] * x + x0[1] - y, 2))\n",
    "        X2 = spopt.fmin(func=l2_fit, x0=[1, 1], args=(x, y))\n",
    "        print(X2)\n",
    "        return X2[0]*x + X2[1]\n",
    "    else:\n",
    "        print('No value for method provided')\n",
    "        \n",
    "def plotHalfViolin(dataToPlot, lgnd, groupedBy):\n",
    "    \n",
    "    plt.rcParams['figure.figsize'] = [30, 16]\n",
    "    plt.rcParams.update({'font.size': 30})\n",
    "    \n",
    "    grp_by = groupedBy\n",
    "    \n",
    "    R = r'$\\overline ' + '{' + f'{lgnd}' + '}' + '$ = '\n",
    "    \n",
    "    fig, ax = plt.subplots()\n",
    "\n",
    "    ort=\"v\"; pal = sns.color_palette(\"Set2\", 4)\n",
    "    \n",
    "    if session == 'N_ROIs':\n",
    "        if grp_by:\n",
    "            plt.title(f'{lgnd} of {grp_by} trials average: ' + f' mouse-{subject},' + ' negative BOLD')\n",
    "        else:\n",
    "            plt.title(f'{lgnd}: ' + f' mouse-{subject},' + ' negative BOLD')\n",
    "    else:\n",
    "        if grp_by:\n",
    "            plt.title(f'{lgnd} of {grp_by} trials average: ' + f' mouse-{subject},' + ' positive BOLD')\n",
    "        else:\n",
    "            plt.title(f'{lgnd}: ' + f' mouse-{subject},' + ' positive BOLD')\n",
    "    \n",
    "    plt.ylabel(lgnd)\n",
    "\n",
    "    ax=pt.half_violinplot(data = dataToPlot, bw = .2, palette = pal, cut=True,\n",
    "                          scale = \"area\", width = .6, inner = None, orient=ort)\n",
    "\n",
    "    if len(ROIs) == 3:\n",
    "        plt.legend ((R + f'{round(np.mean(dataToPlot)[0],2)}', \n",
    "                     R + f'{round(np.mean(dataToPlot)[1],2)}', \n",
    "                     R + f'{round(np.mean(dataToPlot)[2],2)}'),\n",
    "                       loc='upper center', bbox_to_anchor=(0.5, 1.00),\n",
    "                          ncol=3, fancybox=True)\n",
    "    if len(ROIs) == 4:\n",
    "        plt.legend ((R + f'{round(np.mean(dataToPlot)[0],2)}', \n",
    "                     R + f'{round(np.mean(dataToPlot)[1],2)}', \n",
    "                     R + f'{round(np.mean(dataToPlot)[2],2)}',\n",
    "                     R + f'{round(np.mean(dataToPlot)[3],2)}'),  \n",
    "                     loc='upper center', bbox_to_anchor=(0.5, 1.00),\n",
    "                          ncol=4, fancybox=True)\n",
    "    \n",
    "    if np.min(np.min(dataToPlot))>1 :\n",
    "        ax.set_ylim(np.min(np.min(dataToPlot))*.75, np.max(np.max(dataToPlot))*1.15)\n",
    "    else:\n",
    "        ax.set_ylim(np.min(np.min(dataToPlot))-0.5, np.max(np.max(dataToPlot))+1.0)\n",
    "\n",
    "    ax=sns.stripplot(data = dataToPlot, palette = pal, edgecolor = \"gray\",\n",
    "                     size = 20, jitter = 0.06, zorder = 0, orient=ort)\n",
    "    ax=sns.boxplot(data = dataToPlot, color = \"black\", width = .15, zorder = 10,\\\n",
    "                showcaps = True, boxprops = {'facecolor':'none', \"zorder\":10},\\\n",
    "                showfliers=True, whiskerprops = {'linewidth':2, \"zorder\":10},\\\n",
    "                   saturation = 1, orient=ort)\n",
    "    return fig, ax\n",
    "\n",
    "def plotBar(dataToPlot, lgnd, groupedBy):\n",
    "    \n",
    "    plt.rcParams['figure.figsize'] = [30, 16]\n",
    "    plt.rcParams.update({'font.size': 30})\n",
    "        \n",
    "    grp_by = groupedBy\n",
    "    \n",
    "    R = r'$\\overline ' + '{' + f'{lgnd}' + '}' + '$ = '\n",
    "    \n",
    "    fig, ax = plt.subplots()\n",
    "            \n",
    "    pal = sns.color_palette(\"Set2\", 4)\n",
    "    \n",
    "    if session == 'N_ROIs':\n",
    "        if grp_by:\n",
    "            plt.title(f'{lgnd} of {grp_by} trials average: ' + f' mouse-{subject},' + ' negative BOLD')\n",
    "        else:\n",
    "            plt.title(f'{lgnd}: ' + f' mouse-{subject},' + ' negative BOLD')\n",
    "    else:\n",
    "        if grp_by:\n",
    "            plt.title(f'{lgnd} of {grp_by} trials average: ' + f' mouse-{subject},' + ' positive BOLD')\n",
    "        else:\n",
    "            plt.title(f'{lgnd}: ' + f' mouse-{subject},' + ' positive BOLD')\n",
    "    \n",
    "    plt.ylabel(lgnd)\n",
    "    \n",
    "    \n",
    "    ax = sns.swarmplot(data=dataToPlot, palette=pal, edgecolor=\"black\", size=20)\n",
    "    \n",
    "    if len(ROIs) == 3:\n",
    "        plt.legend ((R + f'{round(np.mean(dataToPlot)[0],2)}', \n",
    "                     R + f'{round(np.mean(dataToPlot)[1],2)}', \n",
    "                     R + f'{round(np.mean(dataToPlot)[2],2)}'),\n",
    "                       loc='upper center', bbox_to_anchor=(0.5, 1.00),\n",
    "                          ncol=3, fancybox=True)\n",
    "    if len(ROIs) == 4:\n",
    "        plt.legend ((R + f'{round(np.mean(dataToPlot)[0],2)}', \n",
    "                     R + f'{round(np.mean(dataToPlot)[1],2)}', \n",
    "                     R + f'{round(np.mean(dataToPlot)[2],2)}',\n",
    "                     R + f'{round(np.mean(dataToPlot)[3],2)}'),  \n",
    "                     loc='upper center', bbox_to_anchor=(0.5, 1.00),\n",
    "                          ncol=4, fancybox=True)\n",
    "    \n",
    "    if np.min(np.min(dataToPlot))>1 :\n",
    "        ax.set_ylim(np.min(np.min(dataToPlot))*.75, np.max(np.max(dataToPlot))*1.15)\n",
    "    else:\n",
    "        ax.set_ylim(np.min(np.min(dataToPlot))-0.5, np.max(np.max(dataToPlot))+1.0)\n",
    "        \n",
    "    ax = sns.boxplot(data = dataToPlot, color = \"black\", width = .5, zorder = 10,\\\n",
    "                showcaps = True, boxprops = {'linewidth':1,'facecolor':'none', \"zorder\":10},\\\n",
    "                showfliers=True, whiskerprops = {'linewidth':1, \"zorder\":10})\n",
    "    \n",
    "    \n",
    "    return fig, ax\n"
   ]
  },
  {
   "cell_type": "code",
   "execution_count": 3,
   "metadata": {},
   "outputs": [],
   "source": [
    "#GLOBAL CONSTs\n",
    "savefigs = True\n",
    "preStim = 40\n",
    "onStim = 20"
   ]
  },
  {
   "cell_type": "code",
   "execution_count": 4,
   "metadata": {},
   "outputs": [],
   "source": [
    "base_dir = '/home/brainy/Documents/15tdata/Processing/ROIs'\n",
    "os.chdir(base_dir)\n"
   ]
  },
  {
   "cell_type": "code",
   "execution_count": 5,
   "metadata": {},
   "outputs": [
    {
     "name": "stdout",
     "output_type": "stream",
     "text": [
      "Subjects in the list ['M1', 'M2', 'M3'] \n"
     ]
    }
   ],
   "source": [
    "#Get SUBJECT name\n",
    "subj = rst(os.listdir(base_dir))\n",
    "print('Subjects in the list {} '.format(subj))"
   ]
  },
  {
   "cell_type": "code",
   "execution_count": 6,
   "metadata": {},
   "outputs": [
    {
     "name": "stdout",
     "output_type": "stream",
     "text": [
      " Subject M1 : ['N_ROIs', 'P_ROIs', 'PbN_ROIs', 'Processed', 'QA_NEG', 'QA_POS'] \n",
      " Subject M2 : ['N_ROIs', 'P_ROIs', 'PbN_ROIs', 'Processed', 'QA_NEG', 'QA_POS'] \n",
      " Subject M3 : ['N_ROIs', 'P_ROIs', 'PbN_ROIs', 'Processed', 'QA_NEG', 'QA_POS'] \n"
     ]
    }
   ],
   "source": [
    "#Get SESSIONS name\n",
    "ses = {}\n",
    "for subject in subj:\n",
    "    ses[subject] = rst(os.listdir(opj(base_dir, subject)))\n",
    "    print(' Subject {} : {} '.format(subject, ses[subject]))"
   ]
  },
  {
   "cell_type": "code",
   "execution_count": 7,
   "metadata": {},
   "outputs": [
    {
     "name": "stdout",
     "output_type": "stream",
     "text": [
      "subj - M2, \n",
      "session - N_ROIs, \n",
      "files = 130\n"
     ]
    }
   ],
   "source": [
    "#Get FILES in SUBJECT with specified SESSION \n",
    "subject = subj[1]\n",
    "session = ses[subject][0]\n",
    "work_dir = opj(base_dir, subject, session)\n",
    "print(f'subj - {subject}, \\nsession - {session}, \\nfiles = {len(os.listdir(work_dir))}')"
   ]
  },
  {
   "cell_type": "code",
   "execution_count": 8,
   "metadata": {},
   "outputs": [
    {
     "name": "stdout",
     "output_type": "stream",
     "text": [
      "Regions of interest - ['barrFieldAud-L', 'barrelField-L', 'barrelField-R']\n"
     ]
    }
   ],
   "source": [
    "fileNames = [f for f in os.listdir(opj(base_dir, subject, session)) if f.endswith('.txt')]\n",
    "\n",
    "ROIs = [str.split(name, '_')[0] for name in fileNames]\n",
    "ROIs = rst(list(dict.fromkeys(ROIs)))\n",
    "\n",
    "print(f'Regions of interest - {ROIs}')\n",
    "#roi_slice = [str.split(name, '_')[1] for name in fileNames]"
   ]
  },
  {
   "cell_type": "code",
   "execution_count": 9,
   "metadata": {},
   "outputs": [],
   "source": [
    "#For group averaging\n",
    "grfilesDict = {}\n",
    "grAverData = {}\n",
    "\n",
    "for ROI in ROIs:\n",
    "    #print(ROI)\n",
    "    sink_1 = []\n",
    "    for sub in subj:\n",
    "        #print(sub)\n",
    "        sink_1.append(rst(glob(opj(base_dir, sub, session + '/' + '*' + ROI + '*.txt'))[0:40]))\n",
    "        #print(np.shape(sink))\n",
    "    grfilesDict[ROI] = sink_1\n",
    "    \n",
    "    sink_2 = []\n",
    "    for j in range(np.shape(sink_1)[1]):\n",
    "        l = []\n",
    "        [l.append(np.loadtxt(grfilesDict[ROI][i][j])) for i in range(len(subj))]\n",
    "        sink_2.append(np.mean(l, axis=0))\n",
    "        #print(np.shape(l))\n",
    "    grAverData[ROI] = sink_2"
   ]
  },
  {
   "cell_type": "code",
   "execution_count": 10,
   "metadata": {},
   "outputs": [],
   "source": [
    "#Group results by BLOCKS - \n",
    "if session == 'N_ROIs':\n",
    "    group_by = 5\n",
    "else:\n",
    "    group_by = 3\n",
    "\n",
    "blockDict = {}\n",
    "for ROI in ROIs:\n",
    "    blockDict[ROI] = list(zip(*[iter(grAverData[ROI])]*group_by))"
   ]
  },
  {
   "cell_type": "code",
   "execution_count": 11,
   "metadata": {},
   "outputs": [
    {
     "data": {
      "text/plain": [
       "(8, 5, 120)"
      ]
     },
     "execution_count": 11,
     "metadata": {},
     "output_type": "execute_result"
    }
   ],
   "source": [
    "# X for time Course\n",
    "x_main = np.linspace(0, np.shape(blockDict[ROIs[0]])[2], \n",
    "                     num = np.shape(blockDict[ROIs[0]])[2])\n",
    "\n",
    "np.shape(blockDict[ROI])"
   ]
  },
  {
   "cell_type": "code",
   "execution_count": null,
   "metadata": {
    "scrolled": false
   },
   "outputs": [],
   "source": []
  },
  {
   "cell_type": "code",
   "execution_count": null,
   "metadata": {},
   "outputs": [],
   "source": []
  }
 ],
 "metadata": {
  "kernelspec": {
   "display_name": "Python 3",
   "language": "python",
   "name": "python3"
  },
  "language_info": {
   "codemirror_mode": {
    "name": "ipython",
    "version": 3
   },
   "file_extension": ".py",
   "mimetype": "text/x-python",
   "name": "python",
   "nbconvert_exporter": "python",
   "pygments_lexer": "ipython3",
   "version": "3.7.4"
  }
 },
 "nbformat": 4,
 "nbformat_minor": 2
}
